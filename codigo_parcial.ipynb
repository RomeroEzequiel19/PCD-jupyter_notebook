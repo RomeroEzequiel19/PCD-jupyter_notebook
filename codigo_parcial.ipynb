{
 "cells": [
  {
   "cell_type": "markdown",
   "metadata": {},
   "source": [
    "# Ejercicios del Parcial"
   ]
  },
  {
   "cell_type": "markdown",
   "metadata": {},
   "source": [
    "### Ejercicio 2 de Algoritmia"
   ]
  },
  {
   "cell_type": "markdown",
   "metadata": {},
   "source": [
    "1. Se crea la función para eliminar valores duplicados y, mediante el bucle for, se vefica que el elemento no se encuentra en la lista sin duplicados"
   ]
  },
  {
   "cell_type": "code",
   "execution_count": 33,
   "metadata": {},
   "outputs": [],
   "source": [
    "def eliminar_duplicados(lista):\n",
    "    try:\n",
    "        lista_sin_duplicados = []\n",
    "\n",
    "        for value in lista:\n",
    "            if(value not in lista_sin_duplicados):\n",
    "                lista_sin_duplicados.append(value)\n",
    "\n",
    "        return lista_sin_duplicados\n",
    "    except Exception as e:\n",
    "        print(f\"Error: ({e})\")"
   ]
  },
  {
   "cell_type": "markdown",
   "metadata": {},
   "source": [
    "2. Se crea una lista"
   ]
  },
  {
   "cell_type": "code",
   "execution_count": 34,
   "metadata": {},
   "outputs": [],
   "source": [
    "lista = [1, 2, 3, 4, 4, 5, 6, 6, 7]"
   ]
  },
  {
   "cell_type": "markdown",
   "metadata": {},
   "source": [
    "3. Se envía como argumento la lista a la función eliminar duplicados y se imprime el resultado"
   ]
  },
  {
   "cell_type": "code",
   "execution_count": 35,
   "metadata": {},
   "outputs": [
    {
     "name": "stdout",
     "output_type": "stream",
     "text": [
      "[1, 2, 3, 4, 5, 6, 7]\n"
     ]
    }
   ],
   "source": [
    "resultado = eliminar_duplicados(lista)\n",
    "print(resultado)"
   ]
  },
  {
   "cell_type": "markdown",
   "metadata": {},
   "source": [
    "### Ejercicio 3 de Pandas"
   ]
  },
  {
   "cell_type": "markdown",
   "metadata": {},
   "source": [
    "1. Creo una varibale con la lista de los alumnos con sus calificaciones"
   ]
  },
  {
   "cell_type": "code",
   "execution_count": 36,
   "metadata": {},
   "outputs": [],
   "source": [
    "calificaciones = [\n",
    "    {\"nombre\": \"Juan\", \"matematicas\": 85, \"ciencias\": 90,\n",
    "    \"historia\": 75},\n",
    "    {\"nombre\": \"María\", \"matematicas\": 70, \"ciencias\": 80,\n",
    "    \"historia\": 85},\n",
    "    {\"nombre\": \"Pedro\", \"matematicas\": 95, \"ciencias\": 75,\n",
    "    \"historia\": 90},\n",
    "    {\"nombre\": \"Ana\", \"matematicas\": 80, \"ciencias\": 85, \"historia\":\n",
    "    80},\n",
    "    {\"nombre\": \"Luis\", \"matematicas\": 75, \"ciencias\": 70,\n",
    "    \"historia\": 95},\n",
    "    {\"nombre\": \"Sofía\", \"matematicas\": 90, \"ciencias\": 85,\n",
    "    \"historia\": 75},\n",
    "    {\"nombre\": \"Carlos\", \"matematicas\": 85, \"ciencias\": 90,\n",
    "    \"historia\": 80},\n",
    "    {\"nombre\": \"Elena\", \"matematicas\": 70, \"ciencias\": 75,\n",
    "    \"historia\": 85},\n",
    "    {\"nombre\": \"Javier\", \"matematicas\": 80, \"ciencias\": 85,\n",
    "    \"historia\": 90},\n",
    "    {\"nombre\": \"Laura\", \"matematicas\": 75, \"ciencias\": 70,\n",
    "    \"historia\": 95},\n",
    "    {\"nombre\": \"Diego\", \"matematicas\": 90, \"ciencias\": 85,\n",
    "    \"historia\": 75},\n",
    "    {\"nombre\": \"Paula\", \"matematicas\": 85, \"ciencias\": 90,\n",
    "    \"historia\": 80},\n",
    "    {\"nombre\": \"Carmen\", \"matematicas\": 70, \"ciencias\": 75,\n",
    "    \"historia\": 85}\n",
    "]"
   ]
  },
  {
   "cell_type": "markdown",
   "metadata": {},
   "source": [
    "2. Creo la función para obtener el promedio de notas por asignatura"
   ]
  },
  {
   "cell_type": "code",
   "execution_count": 37,
   "metadata": {},
   "outputs": [],
   "source": [
    "def promedio_calificaciones_asignaturas(calificaciones):\n",
    "    try:\n",
    "\n",
    "        promedios_asignaturas = {}\n",
    "\n",
    "        notas_matematicas = []\n",
    "        notas_ciencias = []\n",
    "        notas_historia = []\n",
    "\n",
    "        for values in calificaciones:\n",
    "\n",
    "            valor_matematica = values[\"matematicas\"]\n",
    "            valor_ciencias = values[\"ciencias\"]\n",
    "            valor_historia = values[\"historia\"]\n",
    "            notas_matematicas.append(valor_matematica)\n",
    "            notas_ciencias.append(valor_ciencias)\n",
    "            notas_historia.append(valor_historia)\n",
    "\n",
    "        promedio_matematicas = (sum(notas_matematicas)) / len(notas_matematicas)\n",
    "        promedio_ciencias = (sum(notas_ciencias)) / len(notas_ciencias)\n",
    "        promedio_historia = (sum(notas_historia)) / len(notas_historia)\n",
    "        \n",
    "        promedios_asignaturas[\"matematicas\"] = promedio_matematicas\n",
    "        promedios_asignaturas[\"ciencias\"] = promedio_ciencias\n",
    "        promedios_asignaturas[\"historia\"] = promedio_historia\n",
    "\n",
    "        return promedios_asignaturas\n",
    "    except Exception as e:\n",
    "       print(f\"Error: {e}\")\n",
    "    "
   ]
  },
  {
   "cell_type": "markdown",
   "metadata": {},
   "source": [
    "3. Paso la lista de alumnos a la función para calcular el promedio de notas por asignatura y lo imprimo"
   ]
  },
  {
   "cell_type": "code",
   "execution_count": 38,
   "metadata": {},
   "outputs": [
    {
     "name": "stdout",
     "output_type": "stream",
     "text": [
      "Promedio de las asignaturas {'matematicas': 80.76923076923077, 'ciencias': 81.15384615384616, 'historia': 83.84615384615384}\n"
     ]
    }
   ],
   "source": [
    "print(\"Promedio de las asignaturas\",promedio_calificaciones_asignaturas(calificaciones))"
   ]
  },
  {
   "cell_type": "markdown",
   "metadata": {},
   "source": [
    "4. Creo la funcion para sacar el promedio de calificaciones de los estudiantes"
   ]
  },
  {
   "cell_type": "code",
   "execution_count": 39,
   "metadata": {},
   "outputs": [],
   "source": [
    "import pandas as pd\n",
    "def promedio_calificaciones_estudiantes(calificaciones):\n",
    "\n",
    "    try:\n",
    "        promedio_calificaciones = []\n",
    "        df = pd.DataFrame(calificaciones)\n",
    "    \n",
    "        for index, values in df.iterrows():\n",
    "\n",
    "            promedio = (values[\"matematicas\"] + values[\"ciencias\"] + values[\"historia\"]) / 3\n",
    "            promedio_calificaciones.append(promedio)\n",
    "\n",
    "        data_frame = pd.DataFrame(df[\"nombre\"])\n",
    "\n",
    "        data_frame[\"promedio\"] = promedio_calificaciones\n",
    "\n",
    "        return data_frame\n",
    "    \n",
    "    except Exception as e:\n",
    "        print(f\"Error: ({e})\")"
   ]
  },
  {
   "cell_type": "markdown",
   "metadata": {},
   "source": [
    "5. Paso la lista de los alumnos a la función para obtener el promedio de los estudiantes y lo imprimo"
   ]
  },
  {
   "cell_type": "code",
   "execution_count": 40,
   "metadata": {},
   "outputs": [
    {
     "name": "stdout",
     "output_type": "stream",
     "text": [
      "    nombre   promedio\n",
      "0     Juan  83.333333\n",
      "1    María  78.333333\n",
      "2    Pedro  86.666667\n",
      "3      Ana  81.666667\n",
      "4     Luis  80.000000\n",
      "5    Sofía  83.333333\n",
      "6   Carlos  85.000000\n",
      "7    Elena  76.666667\n",
      "8   Javier  85.000000\n",
      "9    Laura  80.000000\n",
      "10   Diego  83.333333\n",
      "11   Paula  85.000000\n",
      "12  Carmen  76.666667\n"
     ]
    }
   ],
   "source": [
    "alumnos_promedios = promedio_calificaciones_estudiantes(calificaciones)\n",
    "print(alumnos_promedios)"
   ]
  },
  {
   "cell_type": "markdown",
   "metadata": {},
   "source": [
    "### Ejercicio de Gráficos"
   ]
  },
  {
   "cell_type": "markdown",
   "metadata": {},
   "source": [
    "1. Creo la función para crear el gráfico"
   ]
  },
  {
   "cell_type": "code",
   "execution_count": 41,
   "metadata": {},
   "outputs": [],
   "source": [
    "import matplotlib.pyplot as plt\n",
    "def crear_grafico(alumnos_promedios):\n",
    "\n",
    "    try:\n",
    "\n",
    "        plt.bar(alumnos_promedios[\"nombre\"], alumnos_promedios[\"promedio\"])\n",
    "\n",
    "        plt.xlabel('Nombre de estudiantes') \n",
    "        plt.ylabel('Promedio') \n",
    "        plt.title('Promedio de alumnos'); \n",
    "\n",
    "\n",
    "        plt.show()\n",
    "    except Exception as e:\n",
    "        print(f\"Error: ({e})\")"
   ]
  },
  {
   "cell_type": "markdown",
   "metadata": {},
   "source": [
    "2. Envio a la función los promedios de los alumnos obtenidos en el función anterior para la creación del gráfico"
   ]
  },
  {
   "cell_type": "code",
   "execution_count": 42,
   "metadata": {},
   "outputs": [
    {
     "data": {
      "image/png": "[encoded data removed]",
      "text/plain": [
       "<Figure size 640x480 with 1 Axes>"
      ]
     },
     "metadata": {},
     "output_type": "display_data"
    }
   ],
   "source": [
    "crear_grafico(alumnos_promedios)"
   ]
  }
 ],
 "metadata": {
  "kernelspec": {
   "display_name": "my-env",
   "language": "python",
   "name": "python3"
  },
  "language_info": {
   "codemirror_mode": {
    "name": "ipython",
    "version": 3
   },
   "file_extension": ".py",
   "mimetype": "text/x-python",
   "name": "python",
   "nbconvert_exporter": "python",
   "pygments_lexer": "ipython3",
   "version": "3.12.2"
  }
 },
 "nbformat": 4,
 "nbformat_minor": 2
}
